{
 "cells": [
  {
   "cell_type": "markdown",
   "metadata": {},
   "source": [
    "### credenciales"
   ]
  },
  {
   "cell_type": "code",
   "execution_count": 1,
   "metadata": {
    "collapsed": false,
    "deletable": true,
    "editable": true
   },
   "outputs": [],
   "source": [
    "import discogs_client\n",
    "\n",
    "d = discogs_client.Client('illak_example_discogs')\n",
    "d.set_consumer_key('mgnLRmBknaepCDlgAMWh', 'hifMNfvhypSpGyoQzvFwoxmvtncFCFtt')\n",
    "d.get_authorize_url()[2]"
   ]
  },
  {
   "cell_type": "markdown",
   "metadata": {},
   "source": [
    "### ir a la url obtenida en el paso anterior y copiar clave de acceso"
   ]
  },
  {
   "cell_type": "code",
   "execution_count": 41,
   "metadata": {
    "collapsed": false,
    "deletable": true,
    "editable": true
   },
   "outputs": [
    {
     "data": {
      "text/plain": [
       "('LRQCJhzHIOMqjEDaAaLSkGYfbmcGkpgqrDjycgGf',\n",
       " 'sQojIHnoryqOwonaAVCVpxfuBWaqAPFWTxDcoMtD')"
      ]
     },
     "execution_count": 41,
     "metadata": {},
     "output_type": "execute_result"
    }
   ],
   "source": [
    "d.get_access_token('thoDukWwig')"
   ]
  },
  {
   "cell_type": "markdown",
   "metadata": {},
   "source": [
    "### ejemplo de búsqueda por artista:"
   ]
  },
  {
   "cell_type": "code",
   "execution_count": 89,
   "metadata": {
    "collapsed": false,
    "deletable": true,
    "editable": true
   },
   "outputs": [
    {
     "data": {
      "text/plain": [
       "65744"
      ]
     },
     "execution_count": 89,
     "metadata": {},
     "output_type": "execute_result"
    }
   ],
   "source": [
    "my_artist = d.search('Donald Harrison', type='artist')[0]\n",
    "my_artist.id"
   ]
  },
  {
   "cell_type": "markdown",
   "metadata": {},
   "source": [
    "### podemos buscar un artista y luego armar un diccionario (release -> credits) del mismo"
   ]
  },
  {
   "cell_type": "code",
   "execution_count": 86,
   "metadata": {
    "collapsed": false,
    "deletable": true,
    "editable": true
   },
   "outputs": [
    {
     "data": {
      "text/plain": [
       "{'Big Chief': [],\n",
       " \"Blues At Bradley's\": [(65744, 'Donald Harrison', 'Alto Saxophone'),\n",
       "  (2031236, 'Blake Taylor', 'Art Direction, Design'),\n",
       "  (272049, 'Charles Fambrough', 'Bass'),\n",
       "  (3993108, 'Robert Branch', 'Director Of Photography'),\n",
       "  (910516, 'Ricky Sebastian', 'Drums'),\n",
       "  (282077, 'Jim Anderson', 'Engineer'),\n",
       "  (3993095, 'John W. Taylor', 'Film Director'),\n",
       "  (4099, 'Bobby Broom', 'Guitar'),\n",
       "  (1705953, 'Tadashi Narita', 'Liner Notes'),\n",
       "  (326032, 'Steve Berrios', 'Percussion'),\n",
       "  (2564273, 'Linda Rosier', 'Photography By'),\n",
       "  (338486, \"Bill O'Connell\", 'Piano'),\n",
       "  (97480, 'Creed Taylor', 'Producer'),\n",
       "  (490815, 'Joe Ford', 'Soprano Saxophone'),\n",
       "  (174447, 'Steve Turre', 'Trombone')],\n",
       " 'Close The Door': [],\n",
       " 'Feathercraft': [(5139428, 'Troy Young (3)', 'Backing Vocals'),\n",
       "  (502919, 'James Singleton', 'Bass'),\n",
       "  (5139433, 'Walter Harris (6)', 'Bass Drum, Backing Vocals'),\n",
       "  (3878669, 'Diana Thornton (2)', 'Design [Graphic Design]'),\n",
       "  (595941, 'Johnny Vidacovich', 'Drums'),\n",
       "  (1222234, 'Willie Green (2)', 'Drums'),\n",
       "  (4238424, 'Marc Stone (2)', 'Electric Guitar'),\n",
       "  (2178224, 'Chris Mule', 'Electric Guitar, Backing Vocals'),\n",
       "  (808262, 'Marc Hewitt', 'Engineer'),\n",
       "  (1537557, 'Tim Stambaugh', 'Engineer'),\n",
       "  (5139435, 'Jonathan Tabak', 'Liner Notes'),\n",
       "  (607527, 'Parker Dinkins', 'Mastered By'),\n",
       "  (1537557, 'Tim Stambaugh', 'Mixed By'),\n",
       "  (5139429, 'Emo Tip', 'Percussion'),\n",
       "  (5139432, 'Shaka Zulu (3)', 'Percussion'),\n",
       "  (1447918, '\"Big Chief\" Smiley Ricks', 'Percussion, Vocals'),\n",
       "  (5139436, 'Jason Jones (16)', 'Photography By [Color Photos Of Smiley]'),\n",
       "  (3878669, 'Diana Thornton (2)', 'Photography By [Cuff]'),\n",
       "  (5139431, 'Linda Resler', 'Photography By [Donald Harrison Jr. & Smiley]'),\n",
       "  (1447918, '\"Big Chief\" Smiley Ricks', 'Producer'),\n",
       "  (65744, 'Donald Harrison', 'Producer'),\n",
       "  (65744, 'Donald Harrison', 'Saxophone, Keyboards'),\n",
       "  (5139430, 'Gregory Boyd (3)', 'Steel Drums, Backing Vocals'),\n",
       "  (5106069, 'Andrew McLean (3)', 'Tabla, Backing Vocals'),\n",
       "  (447384, 'Craig Klein', 'Tuba, Trombone, Backing Vocals'),\n",
       "  (3775153, 'Ivory Holmes', 'Vocals'),\n",
       "  (2191925, 'Kenneth \"Skeeter\" Bruce', 'Vocals'),\n",
       "  (5139427, 'Mama Efuru', 'Vocals')],\n",
       " \"For Art's Sake\": [(65744, 'Donald Harrison', 'Alto Saxophone'),\n",
       "  (44565, 'Christian McBride', 'Bass'),\n",
       "  (1703620, 'Malcolm Walker', 'Design'),\n",
       "  (306789, 'Carl Allen', 'Drums'),\n",
       "  (332286, 'Alan Bates', 'Executive Producer'),\n",
       "  (1678671, 'Barry McRae', 'Liner Notes'),\n",
       "  (2200718, 'Mitchell Seidel', 'Photography'),\n",
       "  (116605, 'Cyrus Chestnut', 'Piano'),\n",
       "  (65756, 'Mark Morganelli', 'Producer'),\n",
       "  (386428, 'Malcolm Addey', 'Recorded By'),\n",
       "  (1453710, 'Marlon Jordan', 'Trumpet')],\n",
       " 'Free Style': [(65744, 'Donald Harrison', 'Alto Saxophone'),\n",
       "  (95088, 'Ron Carter', 'Bass'),\n",
       "  (660030, 'Vicente Archer', 'Bass'),\n",
       "  (35199, 'Billy Cobham', 'Drums'),\n",
       "  (2278866, 'John Lamkin', 'Drums'),\n",
       "  (444388, 'Glenn Patscha', 'Piano')],\n",
       " 'Full Circle': [(65744,\n",
       "   'Donald Harrison',\n",
       "   'Alto Saxophone, Vocals, Producer'),\n",
       "  (1864624, 'Shigo Yamaguchi', 'Art Direction'),\n",
       "  (346618, 'Dwayne Burno', 'Bass'),\n",
       "  (1991330, 'Shigo Design Room', 'Design'),\n",
       "  (306789, 'Carl Allen', 'Drum'),\n",
       "  (285239, 'Brian Sperber', 'Engineer [Assistant]'),\n",
       "  (763560, 'Sandy Palmer', 'Engineer [Assistant]'),\n",
       "  (246456, 'James Nichols', 'Engineer [Recording]'),\n",
       "  (316785, 'Mark Whitfield', 'Guitar'),\n",
       "  (116605, 'Cyrus Chestnut', 'Piano'),\n",
       "  (246456, 'James Nichols', 'Producer')],\n",
       " 'Heroes': [(65744, 'Donald Harrison', 'Alto Saxophone'),\n",
       "  (95088, 'Ron Carter', 'Bass'),\n",
       "  (35199, 'Billy Cobham', 'Drums')],\n",
       " 'Music From & Inspired By The Film \"The Devil\\'s Toothpick\"': [(45768,\n",
       "   'Don Sebesky',\n",
       "   'Arranged By'),\n",
       "  (65744, 'Donald Harrison', 'Arranged By'),\n",
       "  (254651, 'Jim Pugh', 'Arranged By'),\n",
       "  (2031236, 'Blake Taylor', 'Art Direction, Design'),\n",
       "  (65744, 'Donald Harrison', 'Featuring'),\n",
       "  (83724, 'Gilberto Gil', 'Featuring'),\n",
       "  (540140, 'Kenia', 'Featuring'),\n",
       "  (319657, 'Klyde Jones', 'Featuring'),\n",
       "  (253781, 'Romero Lubambo', 'Featuring'),\n",
       "  (416215, 'Ted Rosenthal', 'Featuring'),\n",
       "  (97480, 'Creed Taylor', 'Producer')],\n",
       " 'Nascence': [(271618, 'Phil Bowler', 'Bass'),\n",
       "  (3717170, 'Ralph Peterson, Jr.', 'Drums'),\n",
       "  (403086, 'Tim Geelan', 'Engineer'),\n",
       "  (213632, 'Rick Rowe', 'Engineer [Assistant]'),\n",
       "  (251849, 'George Butler', 'Executive-Producer'),\n",
       "  (316589, 'Jeff Haynes', 'Percussion'),\n",
       "  (272493, 'Mulgrew Miller', 'Piano'),\n",
       "  (65744, 'Donald Harrison', 'Saxophone [Alto], Producer'),\n",
       "  (272499, 'Terence Blanchard', 'Trumpet, Producer')],\n",
       " 'New Orleans Gumbo': [],\n",
       " 'New Orleans Jazz Preservation': [],\n",
       " 'New York Cool - Live At Blue Note': [],\n",
       " 'Paradise Found': [(65744, 'Donald Harrison', 'Alto Saxophone, Producer'),\n",
       "  (660030, 'Vicente Archer', 'Bass'),\n",
       "  (785722, 'Christian Scott (2)', 'Composed By'),\n",
       "  (65744, 'Donald Harrison', 'Composed By'),\n",
       "  (262816, 'Erroll Garner', 'Composed By'),\n",
       "  (97545, 'John Coltrane', 'Composed By'),\n",
       "  (301993, 'Johnny Burke', 'Composed By'),\n",
       "  (2278866, 'John Lamkin', 'Drums'),\n",
       "  (244135, 'Greg Calbi', 'Mastered By'),\n",
       "  (785722, 'Christian Scott (2)', 'Trumpet')],\n",
       " 'Real Life Stories': [(65744, 'Donald Harrison', 'Alto Saxophone'),\n",
       "  (660030, 'Vicente Archer', 'Bass'),\n",
       "  (2278866, 'John Lamkin', 'Drums'),\n",
       "  (355403, 'Jonathon Lefcoski', 'Piano'),\n",
       "  (65751, 'Eric Reed', 'Piano, Producer'),\n",
       "  (785722, 'Christian Scott (2)', 'Trumpet')],\n",
       " \"The Devil's Toothpick\": [(2031236, 'Blake Taylor', 'Art Direction, Design'),\n",
       "  (4074336, 'John Inwood', 'Director Of Photography'),\n",
       "  (65744, 'Donald Harrison', 'Featuring'),\n",
       "  (486466, 'Gerônimo', 'Featuring'),\n",
       "  (83724, 'Gilberto Gil', 'Featuring'),\n",
       "  (540140, 'Kenia', 'Featuring'),\n",
       "  (319657, 'Klyde Jones', 'Featuring'),\n",
       "  (253781, 'Romero Lubambo', 'Featuring'),\n",
       "  (416215, 'Ted Rosenthal', 'Featuring'),\n",
       "  (4434583, 'Sam Harrison (5)', 'Film Editor'),\n",
       "  (97480, 'Creed Taylor', 'Producer')],\n",
       " \"The Power Of Cool/ Blues At Bradley's\": [],\n",
       " 'This Is Jazz': [(65744, 'Donald Harrison', 'Alto Saxophone'),\n",
       "  (95088, 'Ron Carter', 'Double Bass'),\n",
       "  (35199, 'Billy Cobham', 'Drums')]}"
      ]
     },
     "execution_count": 86,
     "metadata": {},
     "output_type": "execute_result"
    }
   ],
   "source": [
    "# el id corresponde a Donald Harrison\n",
    "artist = d.artist(65744)\n",
    "\n",
    "# los releases se listan por paginas (4 en este caso)\n",
    "artist.releases.pages\n",
    "\n",
    "# ejemplo de diccionario de la primer pagina\n",
    "{rel.title: [(e.id, e.name, e.data.get(\"role\")) for e in rel.credits] \\\n",
    "     for rel in artist.releases.page(1) if rel.data.get('type') != 'master'}"
   ]
  },
  {
   "cell_type": "markdown",
   "metadata": {},
   "source": [
    "### algunas pruebas:"
   ]
  },
  {
   "cell_type": "code",
   "execution_count": 44,
   "metadata": {
    "collapsed": false,
    "deletable": true,
    "editable": true
   },
   "outputs": [
    {
     "data": {
      "text/plain": [
       "[(65744, 'Donald Harrison', 'Alto Sax'),\n",
       " (272500, 'Lonnie Plaxico', 'Bass'),\n",
       " (253780, 'Marvin \"Smitty\" Smith', 'Drums'),\n",
       " (272493, 'Mulgrew Miller', 'Piano'),\n",
       " (272501, 'George Wein', 'Producer'),\n",
       " (272499, 'Terence Blanchard', 'Trumpet')]"
      ]
     },
     "execution_count": 44,
     "metadata": {},
     "output_type": "execute_result"
    }
   ],
   "source": [
    "results = d.search('New York Second Line', type='release')\n",
    "[(e.id, e.name, e.data.get(\"role\")) for e in results[0].credits]"
   ]
  }
 ],
 "metadata": {
  "kernelspec": {
   "display_name": "Python 3",
   "language": "python",
   "name": "python3"
  },
  "language_info": {
   "codemirror_mode": {
    "name": "ipython",
    "version": 3
   },
   "file_extension": ".py",
   "mimetype": "text/x-python",
   "name": "python",
   "nbconvert_exporter": "python",
   "pygments_lexer": "ipython3",
   "version": "3.4.2"
  }
 },
 "nbformat": 4,
 "nbformat_minor": 2
}
